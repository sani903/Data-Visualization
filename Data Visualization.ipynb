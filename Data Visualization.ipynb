{
 "cells": [
  {
   "cell_type": "markdown",
   "metadata": {},
   "source": [
    "# DATA VISUALIZATION \n",
    "<hr style=\"height:5px;border-width:2;color:gray\">"
   ]
  },
  {
   "cell_type": "markdown",
   "metadata": {},
   "source": [
    "Data courtesy of: https://www.kaggle.com/leonardopena/marvel-vs-dc"
   ]
  },
  {
   "cell_type": "markdown",
   "metadata": {},
   "source": [
    "# Dataset to be analysed: Marvel and DC movies"
   ]
  },
  {
   "cell_type": "code",
   "execution_count": 1,
   "metadata": {},
   "outputs": [],
   "source": [
    "import pandas as pd\n",
    "import matplotlib.pyplot as plt\n",
    "import seaborn as sns\n",
    "import numpy as np"
   ]
  },
  {
   "cell_type": "code",
   "execution_count": 2,
   "metadata": {},
   "outputs": [],
   "source": [
    "md = pd.read_csv('db.csv')\n",
    "mvl_10 = md[(md['Company'] == 'Marvel') & (md['Release'] <= 2015)]['Rate'].mean()\n",
    "dc_10 = md[(md['Company'] == 'DC') & (md['Release'] <= 2015)]['Rate'].mean()\n",
    "mvl_20 = md[(md['Company'] == 'Marvel') & (md['Release'] > 2015)]['Rate'].mean()\n",
    "dc_20 = md[(md['Company'] == 'DC') & (md['Release'] > 2015)]['Rate'].mean()\n",
    "mvl_11 = md[(md['Company'] == 'Marvel') & (md['Release'] <= 2015)]['Metascore'].mean()\n",
    "dc_11 = md[(md['Company'] == 'DC') & (md['Release'] <= 2015)]['Metascore'].mean()\n",
    "mvl_21 = md[(md['Company'] == 'Marvel') & (md['Release'] > 2015)]['Metascore'].mean()\n",
    "dc_21 = md[(md['Company'] == 'DC') & (md['Release'] > 2015)]['Metascore'].mean()\n",
    "mvl_10 = mvl_10*10\n",
    "mvl_20 = mvl_20*10\n",
    "dc_10 = dc_10*10\n",
    "dc_20 = dc_20*10\n",
    "\n",
    "mvl_00 = md[(md['Company'] == 'Marvel')]['Rate'].mean()\n",
    "dc_00 = md[(md['Company'] == 'DC')]['Rate'].mean()\n",
    "mvl_01 = md[(md['Company'] == 'Marvel')]['Metascore'].mean()\n",
    "dc_01 = md[(md['Company'] == 'DC')]['Metascore'].mean()\n",
    "mvl_0 = (mvl_00*10 + mvl_01) / 2\n",
    "dc_0 = (dc_00*10 + dc_01) / 2\n",
    "mvl_1 = (mvl_10 + mvl_11) / 2\n",
    "dc_1 = (dc_10 + dc_11) / 2\n",
    "mvl_2 = (mvl_20 + mvl_21) / 2\n",
    "dc_2 = (dc_20 + dc_21) / 2\n",
    "data = {'Years': ['Till 2015', 'Till 2015', 'After 2015', 'After 2015', 'Overall', 'Overall'],\n",
    "        'Company': ['Marvel', 'DC', 'Marvel', 'DC', 'Marvel', 'DC'],\n",
    "        'Mean': [mvl_1, dc_1, mvl_2, dc_2, mvl_0, dc_0]}\n",
    "df = pd.DataFrame(data)\n",
    "table = df.groupby(['Years', 'Company'])['Mean'].mean()\n"
   ]
  },
  {
   "cell_type": "code",
   "execution_count": 34,
   "metadata": {
    "scrolled": true
   },
   "outputs": [
    {
     "name": "stderr",
     "output_type": "stream",
     "text": [
      "/Users/sanid/opt/anaconda3/lib/python3.8/site-packages/seaborn/axisgrid.py:643: UserWarning: Using the barplot function without specifying `order` is likely to produce an incorrect plot.\n",
      "  warnings.warn(warning)\n",
      "<ipython-input-34-f309731e88dc>:41: UserWarning: Tight layout not applied. tight_layout cannot make axes width small enough to accommodate all axes decorations\n",
      "  plt.tight_layout()\n"
     ]
    },
    {
     "data": {
      "image/png": "[encoded data removed]",
      "text/plain": [
       "<Figure size 648x216 with 3 Axes>"
      ]
     },
     "metadata": {},
     "output_type": "display_data"
    }
   ],
   "source": [
    "def chart(info):\n",
    "    graph = sns.FacetGrid(info, col = 'Years', col_order = [\"Till 2015\", \"After 2015\", \"Overall\"], sharex = False)\n",
    "    graph.map(sns.barplot, 'Years', 'Mean', 'Company', hue_order = ['Marvel', 'DC'])\n",
    "    axes = np.array(graph.axes.flat)\n",
    "    return plt.gcf(), axes\n",
    "fig, axes = chart(df)\n",
    "plt.figure(num = 1, figsize = (6, 3))\n",
    "\n",
    "labels = ['Till 2015', 'After 2015', 'Overall']\n",
    "for i, axe in enumerate(axes):\n",
    "    axe.set_ylim(0,100)\n",
    "    axe.set_xticklabels([\"Marvel             DC  \"])\n",
    "    axe.set_xlabel(labels[i])\n",
    "    axe.set_ylabel(\"\")\n",
    "    axe.set_title(\"\")\n",
    "    axe.tick_params(left = False)\n",
    "axes.flat[0].set_ylabel(\"Ratings\")\n",
    "sns.despine(ax=axes[1], left=True)\n",
    "sns.despine(ax=axes[2], left=True)\n",
    "sns.set_context(\"paper\")\n",
    "sns.set(font='serif')\n",
    "sns.set_style(\"white\", {\n",
    "        \"font.family\": \"serif\",\n",
    "        \"font.serif\": [\"Times\", \"Verdana\", \"serif\"]\n",
    "    })\n",
    "\n",
    "\n",
    "#plt.figtext(0.5, 0.01, \"one text and next text\", ha=\"center\", fontsize=18, bbox={\"facecolor\":\"orange\", \"alpha\":0.5, \"pad\":5})\n",
    "\n",
    "plt.annotate('Ratings calculated by taking average of IMDb(scaled up to 100) and Metacritic ratings to remove any discrepancy due to source of data', \n",
    "            xy = (1.5, -0.35),\n",
    "             xycoords='axes fraction',\n",
    "             ha='right',\n",
    "            va=\"center\", \n",
    "            fontsize=10)\n",
    "\n",
    "\n",
    "\n",
    "\n",
    "fig.suptitle(\"Ratings for DC and Marvel movies over the period 2004-2019\", fontsize=15, x=0.55)\n",
    "plt.tight_layout()\n",
    "colors = [\n",
    "        [0.0, 0.6, 0.6],          \n",
    "        [0.0, 0.9, 1],                    \n",
    "        [0.4, 0.1, 0.9],\n",
    "        [0.6, 0.5, 0.9],\n",
    "        [0.984375, 0.7265625, 0], \n",
    "        [1, 1, 0.6]              \n",
    "    ]\n",
    "for i in range(3):\n",
    "\n",
    "\n",
    "    dark_color = colors[i*2]\n",
    "    light_color = colors[i*2 + 1]\n",
    "\n",
    "        # These are the patches (matplotlib's terminology\n",
    "        # for the rectangles corresponding to the bars)\n",
    "    p1, p2 = axes[i].patches\n",
    "\n",
    "        # The first bar gets the dark color\n",
    "    p1.set_color(dark_color)\n",
    "        \n",
    "        # The second bar gets the light color, plus\n",
    "        # hatch marks int he dark color\n",
    "    p2.set_color(light_color)\n",
    "    p2.set_edgecolor(dark_color)\n",
    "    p2.set_hatch('\\\\\\\\')\n",
    "    \n",
    "    \n",
    "    \n",
    "\n",
    "\n",
    "plt.show()"
   ]
  },
  {
   "cell_type": "markdown",
   "metadata": {},
   "source": [
    "## Useful insights:\n",
    "1. Marvel movies have been qualitatively better than DC movies since the franchises started releasing movies.\n",
    "2. The gulf in quality between Marvel and DC movies increased recently(post 2015).\n",
    "3. The quality of DC movies has remained the same over time whereas Marvel movies have seen an increase in quality."
   ]
  },
  {
   "cell_type": "code",
   "execution_count": null,
   "metadata": {},
   "outputs": [],
   "source": []
  }
 ],
 "metadata": {
  "kernelspec": {
   "display_name": "Python 3 (ipykernel)",
   "language": "python",
   "name": "python3"
  },
  "language_info": {
   "codemirror_mode": {
    "name": "ipython",
    "version": 3
   },
   "file_extension": ".py",
   "mimetype": "text/x-python",
   "name": "python",
   "nbconvert_exporter": "python",
   "pygments_lexer": "ipython3",
   "version": "3.9.6"
  }
 },
 "nbformat": 4,
 "nbformat_minor": 2
}
